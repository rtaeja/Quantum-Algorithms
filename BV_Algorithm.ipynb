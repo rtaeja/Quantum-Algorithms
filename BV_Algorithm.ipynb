{
  "nbformat": 4,
  "nbformat_minor": 0,
  "metadata": {
    "colab": {
      "name": "BV_Algorithm.ipynb",
      "provenance": [],
      "collapsed_sections": []
    },
    "kernelspec": {
      "name": "python3",
      "display_name": "Python 3"
    },
    "language_info": {
      "name": "python"
    }
  },
  "cells": [
    {
      "cell_type": "code",
      "execution_count": 1,
      "metadata": {
        "colab": {
          "base_uri": "https://localhost:8080/"
        },
        "id": "iajJmW17aNAM",
        "outputId": "d9a71fd5-f4ff-4be9-eb16-f2ac9ee96975"
      },
      "outputs": [
        {
          "output_type": "stream",
          "name": "stdout",
          "text": [
            "Collecting qiskit\n",
            "  Downloading qiskit-0.34.2.tar.gz (13 kB)\n",
            "Collecting qiskit-terra==0.19.2\n",
            "  Downloading qiskit_terra-0.19.2-cp37-cp37m-manylinux_2_12_x86_64.manylinux2010_x86_64.whl (6.5 MB)\n",
            "\u001b[K     |████████████████████████████████| 6.5 MB 4.8 MB/s \n",
            "\u001b[?25hCollecting qiskit-aer==0.10.3\n",
            "  Downloading qiskit_aer-0.10.3-cp37-cp37m-manylinux_2_12_x86_64.manylinux2010_x86_64.whl (18.0 MB)\n",
            "\u001b[K     |████████████████████████████████| 18.0 MB 99 kB/s \n",
            "\u001b[?25hCollecting qiskit-ibmq-provider==0.18.3\n",
            "  Downloading qiskit_ibmq_provider-0.18.3-py3-none-any.whl (238 kB)\n",
            "\u001b[K     |████████████████████████████████| 238 kB 57.6 MB/s \n",
            "\u001b[?25hCollecting qiskit-ignis==0.7.0\n",
            "  Downloading qiskit_ignis-0.7.0-py3-none-any.whl (200 kB)\n",
            "\u001b[K     |████████████████████████████████| 200 kB 56.8 MB/s \n",
            "\u001b[?25hRequirement already satisfied: scipy>=1.0 in /usr/local/lib/python3.7/dist-packages (from qiskit-aer==0.10.3->qiskit) (1.4.1)\n",
            "Requirement already satisfied: numpy>=1.16.3 in /usr/local/lib/python3.7/dist-packages (from qiskit-aer==0.10.3->qiskit) (1.21.5)\n",
            "Requirement already satisfied: urllib3>=1.21.1 in /usr/local/lib/python3.7/dist-packages (from qiskit-ibmq-provider==0.18.3->qiskit) (1.24.3)\n",
            "Collecting requests-ntlm>=1.1.0\n",
            "  Downloading requests_ntlm-1.1.0-py2.py3-none-any.whl (5.7 kB)\n",
            "Requirement already satisfied: python-dateutil>=2.8.0 in /usr/local/lib/python3.7/dist-packages (from qiskit-ibmq-provider==0.18.3->qiskit) (2.8.2)\n",
            "Collecting websocket-client>=1.0.1\n",
            "  Downloading websocket_client-1.3.1-py3-none-any.whl (54 kB)\n",
            "\u001b[K     |████████████████████████████████| 54 kB 3.3 MB/s \n",
            "\u001b[?25hRequirement already satisfied: requests>=2.19 in /usr/local/lib/python3.7/dist-packages (from qiskit-ibmq-provider==0.18.3->qiskit) (2.23.0)\n",
            "Collecting retworkx>=0.8.0\n",
            "  Downloading retworkx-0.11.0-cp37-cp37m-manylinux_2_5_x86_64.manylinux1_x86_64.manylinux_2_12_x86_64.manylinux2010_x86_64.whl (1.6 MB)\n",
            "\u001b[K     |████████████████████████████████| 1.6 MB 28.0 MB/s \n",
            "\u001b[?25hRequirement already satisfied: setuptools>=40.1.0 in /usr/local/lib/python3.7/dist-packages (from qiskit-ignis==0.7.0->qiskit) (57.4.0)\n",
            "Collecting ply>=3.10\n",
            "  Downloading ply-3.11-py2.py3-none-any.whl (49 kB)\n",
            "\u001b[K     |████████████████████████████████| 49 kB 6.6 MB/s \n",
            "\u001b[?25hCollecting scipy>=1.0\n",
            "  Downloading scipy-1.7.3-cp37-cp37m-manylinux_2_12_x86_64.manylinux2010_x86_64.whl (38.1 MB)\n",
            "\u001b[K     |████████████████████████████████| 38.1 MB 1.3 MB/s \n",
            "\u001b[?25hRequirement already satisfied: psutil>=5 in /usr/local/lib/python3.7/dist-packages (from qiskit-terra==0.19.2->qiskit) (5.4.8)\n",
            "Collecting symengine>=0.8\n",
            "  Downloading symengine-0.9.2-cp37-cp37m-manylinux2010_x86_64.whl (37.5 MB)\n",
            "\u001b[K     |████████████████████████████████| 37.5 MB 15 kB/s \n",
            "\u001b[?25hRequirement already satisfied: sympy>=1.3 in /usr/local/lib/python3.7/dist-packages (from qiskit-terra==0.19.2->qiskit) (1.7.1)\n",
            "Collecting stevedore>=3.0.0\n",
            "  Downloading stevedore-3.5.0-py3-none-any.whl (49 kB)\n",
            "\u001b[K     |████████████████████████████████| 49 kB 7.1 MB/s \n",
            "\u001b[?25hCollecting python-constraint>=1.4\n",
            "  Downloading python-constraint-1.4.0.tar.bz2 (18 kB)\n",
            "Requirement already satisfied: dill>=0.3 in /usr/local/lib/python3.7/dist-packages (from qiskit-terra==0.19.2->qiskit) (0.3.4)\n",
            "Collecting tweedledum<2.0,>=1.1\n",
            "  Downloading tweedledum-1.1.1-cp37-cp37m-manylinux_2_12_x86_64.manylinux2010_x86_64.whl (943 kB)\n",
            "\u001b[K     |████████████████████████████████| 943 kB 53.5 MB/s \n",
            "\u001b[?25hRequirement already satisfied: six>=1.5 in /usr/local/lib/python3.7/dist-packages (from python-dateutil>=2.8.0->qiskit-ibmq-provider==0.18.3->qiskit) (1.15.0)\n",
            "Requirement already satisfied: idna<3,>=2.5 in /usr/local/lib/python3.7/dist-packages (from requests>=2.19->qiskit-ibmq-provider==0.18.3->qiskit) (2.10)\n",
            "Requirement already satisfied: chardet<4,>=3.0.2 in /usr/local/lib/python3.7/dist-packages (from requests>=2.19->qiskit-ibmq-provider==0.18.3->qiskit) (3.0.4)\n",
            "Requirement already satisfied: certifi>=2017.4.17 in /usr/local/lib/python3.7/dist-packages (from requests>=2.19->qiskit-ibmq-provider==0.18.3->qiskit) (2021.10.8)\n",
            "Collecting ntlm-auth>=1.0.2\n",
            "  Downloading ntlm_auth-1.5.0-py2.py3-none-any.whl (29 kB)\n",
            "Collecting cryptography>=1.3\n",
            "  Downloading cryptography-36.0.2-cp36-abi3-manylinux_2_24_x86_64.whl (3.6 MB)\n",
            "\u001b[K     |████████████████████████████████| 3.6 MB 42.0 MB/s \n",
            "\u001b[?25hRequirement already satisfied: cffi>=1.12 in /usr/local/lib/python3.7/dist-packages (from cryptography>=1.3->requests-ntlm>=1.1.0->qiskit-ibmq-provider==0.18.3->qiskit) (1.15.0)\n",
            "Requirement already satisfied: pycparser in /usr/local/lib/python3.7/dist-packages (from cffi>=1.12->cryptography>=1.3->requests-ntlm>=1.1.0->qiskit-ibmq-provider==0.18.3->qiskit) (2.21)\n",
            "Collecting pbr!=2.1.0,>=2.0.0\n",
            "  Downloading pbr-5.8.1-py2.py3-none-any.whl (113 kB)\n",
            "\u001b[K     |████████████████████████████████| 113 kB 64.9 MB/s \n",
            "\u001b[?25hRequirement already satisfied: importlib-metadata>=1.7.0 in /usr/local/lib/python3.7/dist-packages (from stevedore>=3.0.0->qiskit-terra==0.19.2->qiskit) (4.11.3)\n",
            "Requirement already satisfied: zipp>=0.5 in /usr/local/lib/python3.7/dist-packages (from importlib-metadata>=1.7.0->stevedore>=3.0.0->qiskit-terra==0.19.2->qiskit) (3.7.0)\n",
            "Requirement already satisfied: typing-extensions>=3.6.4 in /usr/local/lib/python3.7/dist-packages (from importlib-metadata>=1.7.0->stevedore>=3.0.0->qiskit-terra==0.19.2->qiskit) (3.10.0.2)\n",
            "Requirement already satisfied: mpmath>=0.19 in /usr/local/lib/python3.7/dist-packages (from sympy>=1.3->qiskit-terra==0.19.2->qiskit) (1.2.1)\n",
            "Building wheels for collected packages: qiskit, python-constraint\n",
            "  Building wheel for qiskit (setup.py) ... \u001b[?25l\u001b[?25hdone\n",
            "  Created wheel for qiskit: filename=qiskit-0.34.2-py3-none-any.whl size=11805 sha256=17ef2b0a7b217675e950c98e2294af2cd7aff31a60a6965a7773ba3ef72f8390\n",
            "  Stored in directory: /root/.cache/pip/wheels/62/77/65/cda6eedfdd2a525bd3f479a4386930ae3088a1eb01f8c944ed\n",
            "  Building wheel for python-constraint (setup.py) ... \u001b[?25l\u001b[?25hdone\n",
            "  Created wheel for python-constraint: filename=python_constraint-1.4.0-py2.py3-none-any.whl size=24081 sha256=898b82ff5834b81af7e64dc34ead6176185bbf9070393f850d7b335bb593deac\n",
            "  Stored in directory: /root/.cache/pip/wheels/07/27/db/1222c80eb1e431f3d2199c12569cb1cac60f562a451fe30479\n",
            "Successfully built qiskit python-constraint\n",
            "Installing collected packages: pbr, tweedledum, symengine, stevedore, scipy, retworkx, python-constraint, ply, ntlm-auth, cryptography, websocket-client, requests-ntlm, qiskit-terra, qiskit-ignis, qiskit-ibmq-provider, qiskit-aer, qiskit\n",
            "  Attempting uninstall: scipy\n",
            "    Found existing installation: scipy 1.4.1\n",
            "    Uninstalling scipy-1.4.1:\n",
            "      Successfully uninstalled scipy-1.4.1\n",
            "\u001b[31mERROR: pip's dependency resolver does not currently take into account all the packages that are installed. This behaviour is the source of the following dependency conflicts.\n",
            "albumentations 0.1.12 requires imgaug<0.2.7,>=0.2.5, but you have imgaug 0.2.9 which is incompatible.\u001b[0m\n",
            "Successfully installed cryptography-36.0.2 ntlm-auth-1.5.0 pbr-5.8.1 ply-3.11 python-constraint-1.4.0 qiskit-0.34.2 qiskit-aer-0.10.3 qiskit-ibmq-provider-0.18.3 qiskit-ignis-0.7.0 qiskit-terra-0.19.2 requests-ntlm-1.1.0 retworkx-0.11.0 scipy-1.7.3 stevedore-3.5.0 symengine-0.9.2 tweedledum-1.1.1 websocket-client-1.3.1\n"
          ]
        }
      ],
      "source": [
        "!pip install qiskit"
      ]
    },
    {
      "cell_type": "code",
      "source": [
        "#importing Qiskit\n",
        "import qiskit\n",
        "from qiskit import QuantumRegister, ClassicalRegister, QuantumCircuit, assemble\n",
        "from qiskit import Aer\n",
        "\n",
        "#Importing Relevant Libraries\n",
        "import numpy as np\n",
        "import matplotlib.pyplot as plt\n",
        "\n",
        "#Importing Qiskit Visualizer\n",
        "from qiskit.visualization import plot_histogram"
      ],
      "metadata": {
        "id": "tWIO5aL6aP2s"
      },
      "execution_count": 23,
      "outputs": []
    },
    {
      "cell_type": "code",
      "source": [
        "#initial Arguments\n",
        "\n",
        "s = '11101101' #Secret String\n",
        "n = len(s) #No. of Qubits"
      ],
      "metadata": {
        "id": "FKkyYJdGgKdV"
      },
      "execution_count": 37,
      "outputs": []
    },
    {
      "cell_type": "code",
      "source": [
        "#The Bernstein Vazirani Algorithm\n",
        "\n",
        "#'n+1' qubits ('n' qubits (input) and 1 ancilla) and 'n' classical registers (for output)\n",
        "qcirc_bv = QuantumCircuit(n+1, n) #Circuit with n+1 qubits and n classical registers \n",
        "\n",
        "#Making the ancilla to |-> state\n",
        "qcirc_bv.h(n)\n",
        "qcirc_bv.z(n)\n",
        "\n",
        "#Applying Hadamards to all other qubits\n",
        "for i in range(n):\n",
        "  qcirc_bv.h(i)\n",
        "\n",
        "#Applying a barrier\n",
        "qcirc_bv.barrier()\n",
        "\n",
        "#Applying the Oracle\n",
        "s = s[::-1]  #Reversing the order to fit Qiskit's ordering\n",
        "for q in range(n):\n",
        "  if s[q] == '0':\n",
        "    qcirc_bv.i(q)\n",
        "  else:\n",
        "    qcirc_bv.cx(q, n)\n",
        "\n",
        "#Applying a barrier\n",
        "qcirc_bv.barrier()\n",
        "\n",
        "#Applying Hadamards again\n",
        "for i in range(n):\n",
        "  qcirc_bv.h(i)\n",
        "\n",
        "#Measuring the output\n",
        "for i in range(n):\n",
        "  qcirc_bv.measure(i, i)\n",
        "\n",
        "#Drawing the Circuit\n",
        "qcirc_bv.draw()"
      ],
      "metadata": {
        "colab": {
          "base_uri": "https://localhost:8080/",
          "height": 647
        },
        "id": "Zy5bJJQ_cDnw",
        "outputId": "72c4e12f-b5d0-4be2-b199-c4a0eeeb4bd0"
      },
      "execution_count": 38,
      "outputs": [
        {
          "output_type": "execute_result",
          "data": {
            "text/plain": [
              "     ┌───┐      ░                                     ░ ┌───┐┌─┐               »\n",
              "q_0: ┤ H ├──────░───■─────────────────────────────────░─┤ H ├┤M├───────────────»\n",
              "     ├───┤      ░   │  ┌───┐                          ░ ├───┤└╥┘┌─┐            »\n",
              "q_1: ┤ H ├──────░───┼──┤ I ├──────────────────────────░─┤ H ├─╫─┤M├────────────»\n",
              "     ├───┤      ░   │  └───┘                          ░ ├───┤ ║ └╥┘┌─┐         »\n",
              "q_2: ┤ H ├──────░───┼─────────■───────────────────────░─┤ H ├─╫──╫─┤M├─────────»\n",
              "     ├───┤      ░   │         │                       ░ ├───┤ ║  ║ └╥┘┌─┐      »\n",
              "q_3: ┤ H ├──────░───┼─────────┼────■──────────────────░─┤ H ├─╫──╫──╫─┤M├──────»\n",
              "     ├───┤      ░   │  ┌───┐  │    │                  ░ ├───┤ ║  ║  ║ └╥┘┌─┐   »\n",
              "q_4: ┤ H ├──────░───┼──┤ I ├──┼────┼──────────────────░─┤ H ├─╫──╫──╫──╫─┤M├───»\n",
              "     ├───┤      ░   │  └───┘  │    │                  ░ ├───┤ ║  ║  ║  ║ └╥┘┌─┐»\n",
              "q_5: ┤ H ├──────░───┼─────────┼────┼────■─────────────░─┤ H ├─╫──╫──╫──╫──╫─┤M├»\n",
              "     ├───┤      ░   │         │    │    │             ░ ├───┤ ║  ║  ║  ║  ║ └╥┘»\n",
              "q_6: ┤ H ├──────░───┼─────────┼────┼────┼────■────────░─┤ H ├─╫──╫──╫──╫──╫──╫─»\n",
              "     ├───┤      ░   │         │    │    │    │        ░ ├───┤ ║  ║  ║  ║  ║  ║ »\n",
              "q_7: ┤ H ├──────░───┼─────────┼────┼────┼────┼────■───░─┤ H ├─╫──╫──╫──╫──╫──╫─»\n",
              "     ├───┤┌───┐ ░ ┌─┴─┐     ┌─┴─┐┌─┴─┐┌─┴─┐┌─┴─┐┌─┴─┐ ░ └───┘ ║  ║  ║  ║  ║  ║ »\n",
              "q_8: ┤ H ├┤ Z ├─░─┤ X ├─────┤ X ├┤ X ├┤ X ├┤ X ├┤ X ├─░───────╫──╫──╫──╫──╫──╫─»\n",
              "     └───┘└───┘ ░ └───┘     └───┘└───┘└───┘└───┘└───┘ ░       ║  ║  ║  ║  ║  ║ »\n",
              "c: 8/═════════════════════════════════════════════════════════╩══╩══╩══╩══╩══╩═»\n",
              "                                                              0  1  2  3  4  5 »\n",
              "«           \n",
              "«q_0: ──────\n",
              "«           \n",
              "«q_1: ──────\n",
              "«           \n",
              "«q_2: ──────\n",
              "«           \n",
              "«q_3: ──────\n",
              "«           \n",
              "«q_4: ──────\n",
              "«           \n",
              "«q_5: ──────\n",
              "«     ┌─┐   \n",
              "«q_6: ┤M├───\n",
              "«     └╥┘┌─┐\n",
              "«q_7: ─╫─┤M├\n",
              "«      ║ └╥┘\n",
              "«q_8: ─╫──╫─\n",
              "«      ║  ║ \n",
              "«c: 8/═╩══╩═\n",
              "«      6  7 "
            ],
            "text/html": [
              "<pre style=\"word-wrap: normal;white-space: pre;background: #fff0;line-height: 1.1;font-family: &quot;Courier New&quot;,Courier,monospace\">     ┌───┐      ░                                     ░ ┌───┐┌─┐               »\n",
              "q_0: ┤ H ├──────░───■─────────────────────────────────░─┤ H ├┤M├───────────────»\n",
              "     ├───┤      ░   │  ┌───┐                          ░ ├───┤└╥┘┌─┐            »\n",
              "q_1: ┤ H ├──────░───┼──┤ I ├──────────────────────────░─┤ H ├─╫─┤M├────────────»\n",
              "     ├───┤      ░   │  └───┘                          ░ ├───┤ ║ └╥┘┌─┐         »\n",
              "q_2: ┤ H ├──────░───┼─────────■───────────────────────░─┤ H ├─╫──╫─┤M├─────────»\n",
              "     ├───┤      ░   │         │                       ░ ├───┤ ║  ║ └╥┘┌─┐      »\n",
              "q_3: ┤ H ├──────░───┼─────────┼────■──────────────────░─┤ H ├─╫──╫──╫─┤M├──────»\n",
              "     ├───┤      ░   │  ┌───┐  │    │                  ░ ├───┤ ║  ║  ║ └╥┘┌─┐   »\n",
              "q_4: ┤ H ├──────░───┼──┤ I ├──┼────┼──────────────────░─┤ H ├─╫──╫──╫──╫─┤M├───»\n",
              "     ├───┤      ░   │  └───┘  │    │                  ░ ├───┤ ║  ║  ║  ║ └╥┘┌─┐»\n",
              "q_5: ┤ H ├──────░───┼─────────┼────┼────■─────────────░─┤ H ├─╫──╫──╫──╫──╫─┤M├»\n",
              "     ├───┤      ░   │         │    │    │             ░ ├───┤ ║  ║  ║  ║  ║ └╥┘»\n",
              "q_6: ┤ H ├──────░───┼─────────┼────┼────┼────■────────░─┤ H ├─╫──╫──╫──╫──╫──╫─»\n",
              "     ├───┤      ░   │         │    │    │    │        ░ ├───┤ ║  ║  ║  ║  ║  ║ »\n",
              "q_7: ┤ H ├──────░───┼─────────┼────┼────┼────┼────■───░─┤ H ├─╫──╫──╫──╫──╫──╫─»\n",
              "     ├───┤┌───┐ ░ ┌─┴─┐     ┌─┴─┐┌─┴─┐┌─┴─┐┌─┴─┐┌─┴─┐ ░ └───┘ ║  ║  ║  ║  ║  ║ »\n",
              "q_8: ┤ H ├┤ Z ├─░─┤ X ├─────┤ X ├┤ X ├┤ X ├┤ X ├┤ X ├─░───────╫──╫──╫──╫──╫──╫─»\n",
              "     └───┘└───┘ ░ └───┘     └───┘└───┘└───┘└───┘└───┘ ░       ║  ║  ║  ║  ║  ║ »\n",
              "c: 8/═════════════════════════════════════════════════════════╩══╩══╩══╩══╩══╩═»\n",
              "                                                              0  1  2  3  4  5 »\n",
              "«           \n",
              "«q_0: ──────\n",
              "«           \n",
              "«q_1: ──────\n",
              "«           \n",
              "«q_2: ──────\n",
              "«           \n",
              "«q_3: ──────\n",
              "«           \n",
              "«q_4: ──────\n",
              "«           \n",
              "«q_5: ──────\n",
              "«     ┌─┐   \n",
              "«q_6: ┤M├───\n",
              "«     └╥┘┌─┐\n",
              "«q_7: ─╫─┤M├\n",
              "«      ║ └╥┘\n",
              "«q_8: ─╫──╫─\n",
              "«      ║  ║ \n",
              "«c: 8/═╩══╩═\n",
              "«      6  7 </pre>"
            ]
          },
          "metadata": {},
          "execution_count": 38
        }
      ]
    },
    {
      "cell_type": "code",
      "source": [
        "#simulating on Local Simulator\n",
        "\n",
        "aer_simulator = Aer.get_backend('aer_simulator')\n",
        "shots = 1024\n",
        "qcirc = assemble(qcirc_bv)\n",
        "results = aer_simulator.run(qcirc).result()\n",
        "values = results.get_counts()\n",
        "\n",
        "plot_histogram(values)"
      ],
      "metadata": {
        "id": "7nIuRnS-cVE5",
        "colab": {
          "base_uri": "https://localhost:8080/",
          "height": 381
        },
        "outputId": "00b04f52-724d-4002-91f1-a88f504fcdce"
      },
      "execution_count": 39,
      "outputs": [
        {
          "output_type": "execute_result",
          "data": {
            "text/plain": [
              "<Figure size 504x360 with 1 Axes>"
            ],
            "image/png": "[encoded data removed]"
          },
          "metadata": {},
          "execution_count": 39
        }
      ]
    },
    {
      "cell_type": "code",
      "source": [
        ""
      ],
      "metadata": {
        "id": "JdmlpGHqjlgz"
      },
      "execution_count": null,
      "outputs": []
    }
  ]
}